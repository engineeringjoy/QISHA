{
 "cells": [
  {
   "cell_type": "markdown",
   "id": "e620f48e-b481-4ecf-bf32-f58bd79d0b51",
   "metadata": {},
   "source": [
    "QISHA_PlotROICounts.ipynb\n",
    "Created by JFranco, 10 SEP 2023\n",
    "\n",
    "This is the fifth module in the QISHA pipepline. It is meant for plotting the results of a single experiment (i.e., not intended for batch analysis). The code will read in all puncta counts from a single ROI directory and plot the results. "
   ]
  },
  {
   "cell_type": "code",
   "execution_count": 21,
   "id": "09163c31-4428-4735-9086-90925cca28ad",
   "metadata": {},
   "outputs": [
    {
     "ename": "ModuleNotFoundError",
     "evalue": "No module named 'seaborn'",
     "output_type": "error",
     "traceback": [
      "\u001b[0;31m---------------------------------------------------------------------------\u001b[0m",
      "\u001b[0;31mModuleNotFoundError\u001b[0m                       Traceback (most recent call last)",
      "Cell \u001b[0;32mIn[21], line 10\u001b[0m\n\u001b[1;32m      8\u001b[0m \u001b[38;5;28;01mimport\u001b[39;00m \u001b[38;5;21;01mimageio\u001b[39;00m\n\u001b[1;32m      9\u001b[0m \u001b[38;5;28;01mimport\u001b[39;00m \u001b[38;5;21;01mpandas\u001b[39;00m \u001b[38;5;28;01mas\u001b[39;00m \u001b[38;5;21;01mpd\u001b[39;00m\n\u001b[0;32m---> 10\u001b[0m \u001b[38;5;28;01mimport\u001b[39;00m \u001b[38;5;21;01mseaborn\u001b[39;00m \u001b[38;5;28;01mas\u001b[39;00m \u001b[38;5;21;01msns\u001b[39;00m\n",
      "\u001b[0;31mModuleNotFoundError\u001b[0m: No module named 'seaborn'"
     ]
    }
   ],
   "source": [
    "#                           *** LIBRARIES ***\n",
    "import datetime\n",
    "import numpy as np\n",
    "import os\n",
    "import matplotlib.image\n",
    "import matplotlib.pyplot as plt\n",
    "from cellpose import models , plot\n",
    "import imageio\n",
    "import pandas as pd\n",
    "import seaborn as sns"
   ]
  },
  {
   "cell_type": "code",
   "execution_count": 3,
   "id": "9bb5da8e-1559-40ae-8bc6-5fb21e549686",
   "metadata": {},
   "outputs": [],
   "source": [
    "#                   *** GET TIME OF ANALYSIS START ***\n",
    "# could turn this into a module?\n",
    "toa = str(datetime.datetime.today()).split()                                   #Time of analysis\n",
    "today = toa[0]\n",
    "now = toa[1]\n",
    "timestamp = today.replace('-','')+'-'+now.replace(':','')[:6]"
   ]
  },
  {
   "cell_type": "code",
   "execution_count": 14,
   "id": "e07e1ffe-eb5b-4ad1-8b18-9c2d6a443e03",
   "metadata": {},
   "outputs": [],
   "source": [
    "#                   *** WHERE TO GET/SAVE DATA ***   \n",
    "# Directories \n",
    "#   UPDATE THIS INFO TO REFLECT YOUR SYSTEM\n",
    "dirMain = \"/Users/joyfranco/Dropbox (Partners HealthCare)/JF_Shared/Data/CYS/CYS_003/\"\n",
    "dirPCs = dirMain+\"ROIPuncta/PunctaCounts/\"\n",
    "dirMD = dirMain+\"Metadata/\"\n",
    "\n",
    "#   ones that need to be made\n",
    "dirAna = dirMain+\"Analysis/\"\n",
    "dirPlts = dirAna+\"Plots\"+timestamp+\"/\""
   ]
  },
  {
   "cell_type": "code",
   "execution_count": 15,
   "id": "28faa828-7eb9-4e94-ac2a-e381c1a27b2e",
   "metadata": {},
   "outputs": [],
   "source": [
    "# Load the metadata\n",
    "fnMD = \"CYS_003.Metadata.Samples.csv\"\n",
    "dfMD = pd.read_csv(dirMD+fnMD)"
   ]
  },
  {
   "cell_type": "code",
   "execution_count": 16,
   "id": "6426fdaf-5fe5-4d83-b3ea-0d2bec181d40",
   "metadata": {},
   "outputs": [
    {
     "name": "stdout",
     "output_type": "stream",
     "text": [
      "  Slides  Column      Row  AnimalID             Genotype Sex      DOB  \\\n",
      "0    All       1  1 and 2      1103  Ntng1Cre+/-;Ai14+/-   F   3/5/23   \n",
      "1    All       2  1 and 2       689  Ntng1Cre+/-;Ai14+/-   M  2/28/22   \n",
      "2    All       3  1 and 2       530  Ntng1Cre+/-;Ai14+/-   M  11/2/21   \n",
      "\n",
      "   SacDate  AgeAtSac CollectionPrep         SampleID  \n",
      "0  4/11/23        37     WSS_006.08  CYS_003.S11.TS2  \n",
      "1   3/6/23       371      WSS_005.E  CYS_003.S11.TS4  \n",
      "2   5/1/23       545     WSS_007.01  CYS_003.S10.TS5  \n"
     ]
    }
   ],
   "source": [
    "print(dfMD)"
   ]
  },
  {
   "cell_type": "code",
   "execution_count": 5,
   "id": "c0269e45-d12b-446d-ba41-3a40e391a8d0",
   "metadata": {},
   "outputs": [],
   "source": [
    "# Create directory for storing ROIs and Masks\n",
    "if not os.path.exists(dirAna):\n",
    "    os.mkdir(dirAna)\n",
    "if not os.path.exists(dirPlts):\n",
    "    os.mkdir(dirPlts)"
   ]
  },
  {
   "cell_type": "code",
   "execution_count": 6,
   "id": "91cbd97e-c692-4cdd-b698-829a12baddcf",
   "metadata": {},
   "outputs": [],
   "source": [
    "# Get list of Puncta Counts to plot  \n",
    "os.chdir(dirPCs)\n",
    "pcs = os.listdir()"
   ]
  },
  {
   "cell_type": "code",
   "execution_count": 18,
   "id": "b898a479-390c-4b8c-8cd3-001b0f5eb58b",
   "metadata": {},
   "outputs": [],
   "source": [
    "# Iterate through the list and generate a dataframe of compiled data\n",
    "\n",
    "# Initialize dataframe for storing pcs\n",
    "dfAll = pd.DataFrame()\n",
    "\n",
    "for pc in pcs:\n",
    "    # Gather the metadata for this sample\n",
    "    fnBase = pc.split(\".PunctaCounts\",1)[0]\n",
    "    # Index of the sample in the metadata sheet\n",
    "    inSamp = dfMD.index[dfMD['SampleID']==fnBase].tolist()[0]\n",
    "    # Get sample specific details\n",
    "    animalID = dfMD.loc[inSamp]['AnimalID']\n",
    "    geno = dfMD.loc[inSamp]['Genotype']\n",
    "    sex = dfMD.loc[inSamp]['Sex']\n",
    "    age = dfMD.loc[inSamp]['AgeAtSac']\n",
    "    \n",
    "    # Read in the puncta counts \n",
    "    dfPC = pd.read_csv(dirPCs+pc)\n",
    "\n",
    "    # Add metadata\n",
    "    dfPC[\"animalID\"] = animalID\n",
    "    dfPC[\"geno\"] = geno\n",
    "    dfPC[\"sex\"] = sex\n",
    "    dfPC[\"age\"] = age\n",
    "\n",
    "    # Append to main df\n",
    "    dfAll = pd.concat([dfAll, dfPC])"
   ]
  },
  {
   "cell_type": "code",
   "execution_count": 20,
   "id": "5715fcb6-abd2-4c78-b4bb-56e833f665ff",
   "metadata": {},
   "outputs": [
    {
     "name": "stdout",
     "output_type": "stream",
     "text": [
      "          Count        ImageName  ROI_ID  animalID                 geno sex  \\\n",
      "0      1      8  CYS_003.S11.TS2       1      1103  Ntng1Cre+/-;Ai14+/-   F   \n",
      "1      2      2  CYS_003.S11.TS2       2      1103  Ntng1Cre+/-;Ai14+/-   F   \n",
      "2      3      6  CYS_003.S11.TS2       3      1103  Ntng1Cre+/-;Ai14+/-   F   \n",
      "3      4      6  CYS_003.S11.TS2       4      1103  Ntng1Cre+/-;Ai14+/-   F   \n",
      "4      5      4  CYS_003.S11.TS2       5      1103  Ntng1Cre+/-;Ai14+/-   F   \n",
      "..   ...    ...              ...     ...       ...                  ...  ..   \n",
      "155  156      2  CYS_003.S10.TS5     156       530  Ntng1Cre+/-;Ai14+/-   M   \n",
      "156  157      1  CYS_003.S10.TS5     157       530  Ntng1Cre+/-;Ai14+/-   M   \n",
      "157  158      6  CYS_003.S10.TS5     158       530  Ntng1Cre+/-;Ai14+/-   M   \n",
      "158  159      3  CYS_003.S10.TS5     159       530  Ntng1Cre+/-;Ai14+/-   M   \n",
      "159  160      1  CYS_003.S10.TS5     160       530  Ntng1Cre+/-;Ai14+/-   M   \n",
      "\n",
      "     age  \n",
      "0     37  \n",
      "1     37  \n",
      "2     37  \n",
      "3     37  \n",
      "4     37  \n",
      "..   ...  \n",
      "155  545  \n",
      "156  545  \n",
      "157  545  \n",
      "158  545  \n",
      "159  545  \n",
      "\n",
      "[500 rows x 8 columns]\n"
     ]
    }
   ],
   "source": [
    "print(dfAll)"
   ]
  },
  {
   "cell_type": "code",
   "execution_count": null,
   "id": "f4a2db6a-f34e-477d-a219-381f05bc157c",
   "metadata": {},
   "outputs": [],
   "source": [
    "####### GENERATE PLOTS #######\n",
    "# Plot Response Maximum Fold Change\n",
    "plt.figure(figsize=(4, 6))\n",
    "sns.catplot(x='genotype',y='mxfc', hue=condition, \n",
    "            data=dfAll, kind=\"box\",palette=colors,boxprops={'facecolor':'None'},linewidth=.5, \n",
    "            dodge=False, order=order, legend = False)\n",
    "ax = sns.swarmplot(x='genotype', y='mxfc', hue=condition,\n",
    "                   data=dfAll, palette=colors, \n",
    "                   dodge = False, size=4,  order=order, legend =False)\n",
    "ax.set(xlabel='Genotype', ylabel='Maximum Fold Change from Baseline')\n",
    "ax.set(ylim=(0, 0.6))\n",
    "plt.xticks(rotation=45)\n",
    "plt.savefig(dirTR+fnFigMaxFC_SB,  bbox_inches='tight', dpi = 300,\n",
    "            format = figForm)"
   ]
  }
 ],
 "metadata": {
  "kernelspec": {
   "display_name": "Python 3 (ipykernel)",
   "language": "python",
   "name": "python3"
  },
  "language_info": {
   "codemirror_mode": {
    "name": "ipython",
    "version": 3
   },
   "file_extension": ".py",
   "mimetype": "text/x-python",
   "name": "python",
   "nbconvert_exporter": "python",
   "pygments_lexer": "ipython3",
   "version": "3.8.17"
  }
 },
 "nbformat": 4,
 "nbformat_minor": 5
}
