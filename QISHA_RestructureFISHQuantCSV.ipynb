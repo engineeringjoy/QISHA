{
 "cells": [
  {
   "cell_type": "markdown",
   "id": "be7d8b08-99df-4d16-93cf-3763943b8add",
   "metadata": {},
   "source": [
    "Restructure CSV to DF\n",
    "JFranco | 25 SEP 2023\n",
    "This notebook will take in CSV files FISH-QUANT analysis, retrieved from a directory, and build a master dataframe that can be used to plot the results from multiple animals. This master dataframe will be saved as a new dataframe which can be used to plot results either in this notebook, another notebook, or imported into Excel or Prism for plotting. "
   ]
  },
  {
   "cell_type": "code",
   "execution_count": 178,
   "id": "6478c6bd-f430-48dd-9a4a-59fe5f7a4455",
   "metadata": {},
   "outputs": [],
   "source": [
    "#                           *** LIBRARIES ***\n",
    "import numpy as np\n",
    "import os\n",
    "import matplotlib.image\n",
    "import matplotlib.pyplot as plt\n",
    "import pandas as pd\n",
    "import seaborn as sns"
   ]
  },
  {
   "cell_type": "code",
   "execution_count": 179,
   "id": "52ea7b6d-8f86-4ba1-9093-27d7979935a4",
   "metadata": {},
   "outputs": [
    {
     "name": "stdout",
     "output_type": "stream",
     "text": [
      "['hcr3animal1_q4mid_647cmaf_SPOTS_SUMMARY.csv', 'hcr3animal4_q4mid_647cmaf_SPOTS_SUMMARY.csv', '.DS_Store', 'hcr3animal5_q2mid_488calb2_SPOTS_SUMMARY.csv', 'hcr3animal1_q4mid_488calb2_SPOTS_SUMMARY.csv', 'hcr3animal4_q4mid_546mafb_SPOTS_SUMMARY.csv', 'hcr3animal1_q4mid_546mafb_SPOTS_SUMMARY.csv', 'hcr3animal3_q4mid_488calb2_SPOTS_SUMMARY.csv', 'hcr3animal5_q2mid_647cmaf_SPOTS_SUMMARY.csv', 'hcr3animal3_q4mid_647cmaf_SPOTS_SUMMARY.csv', 'hcr3animal3_q4mid_546mafb_SPOTS_SUMMARY.csv', 'hcr3animal5_q2mid_546mafb_SPOTS_SUMMARY.csv', 'hcr3animal4_q4mid_488calb2_SPOTS_SUMMARY.csv']\n"
     ]
    }
   ],
   "source": [
    "#  *** WHERE TO GET AND SAVE DATA ***\n",
    "dirMain = \"/Users/joyfranco/Dropbox (Partners HealthCare)/JF_Shared/Data/FromOthers/Cynthia/PlotGeneration/\"\n",
    "\n",
    "# Get a list of the contents in that folder\n",
    "os.chdir(dirMain)\n",
    "files = os.listdir()\n",
    "print(files)"
   ]
  },
  {
   "cell_type": "code",
   "execution_count": 180,
   "id": "409fdf72-952a-4e4a-80d1-19631d450f5a",
   "metadata": {},
   "outputs": [],
   "source": [
    "#  *** COMPILE THE INFORMATION FROM THE VARIOUS FILES INTO ONE DF ***\n",
    "dfAll = pd.DataFrame()  \n",
    "\n",
    "for file in files:\n",
    "    # Check that the file is one that we want\n",
    "    if \"SPOTS_SUMMARY.csv\" in file:\n",
    "        # Get key metadata from filename using indices -- not my preferred method because it's dirty, but it's quick\n",
    "        animalID = file[10:11]\n",
    "        channel = file[18:21]   \n",
    "        target = file[21:25]\n",
    "\n",
    "        # Load the csv file as a dataframe\n",
    "        dfCSV = pd.read_csv(dirMain+file)\n",
    "\n",
    "        # Get the column headings\n",
    "        col = dfCSV.columns[0].split(\";\")\n",
    "        \n",
    "        for index, row in dfCSV.iterrows():\n",
    "            # Get raw data and compile into dataframe based on semicolon delimiter\n",
    "            entry = row[0].split(\";\")\n",
    "            dfTemp = pd.DataFrame(np.array([entry]),columns=col)\n",
    "            dfTemp.drop(columns=dfTemp.columns[0], axis=1,  inplace=True)\n",
    "\n",
    "            # Add additional fields to help with plotting\n",
    "            dfTemp['animalID'] = animalID\n",
    "            dfTemp['channel'] = channel\n",
    "            dfTemp['target'] = target\n",
    "            dfTemp['roiID'] = str(animalID+\"_\"+entry[0]) # Found big issue with excel dropping last zero \n",
    "            # Append to main df\n",
    "            dfAll = pd.concat([dfAll, dfTemp])\n",
    "\n",
    "dfAll.reset_index(drop=True, inplace=True)"
   ]
  },
  {
   "cell_type": "code",
   "execution_count": 181,
   "id": "fe1e60cb-5759-4d13-9b01-9123a36be9cf",
   "metadata": {},
   "outputs": [],
   "source": [
    "#   *** Save compiled DF to file ***\n",
    "dfAll.to_csv(dirMain+\"RestructuredDFFromCSV_All.csv\")\n",
    "\n",
    "#   *** Reload the dataframe to help with subsetting\n",
    "#  Ran into a weird issue where .loc returned an empty dataframe and didn't have time to troubleshoot\n",
    "dfAll = pd.read_csv(dirMain+\"RestructuredDFFromCSV_All.csv\")"
   ]
  },
  {
   "cell_type": "code",
   "execution_count": 197,
   "id": "978679de-f5f1-45c4-90d5-537667f6516c",
   "metadata": {},
   "outputs": [],
   "source": [
    "#  *** REORGANIZE THE DATAFRAME FOR EASY PLOTTING ***\n",
    "# Get list of all unique info \n",
    "rois = dfAll['roiID'].unique()\n",
    "targets = dfAll['target'].unique()\n",
    "\n",
    "# Iterate through each unique ROI and build relevant info for new dataframe \n",
    "dfROIsAll = pd.DataFrame()\n",
    "for roi in rois:\n",
    "    dfSS = dfAll[dfAll['roiID']==roi]\n",
    "    channels = dfSS['channel'].unique()\n",
    "    animalID = dfSS['animalID'].iloc[0]\n",
    "\n",
    "    # Iterate through the channels for this ROI\n",
    "    colsAll = []\n",
    "    chArr = []\n",
    "    for chan in channels:\n",
    "        \n",
    "        # Get the values for each column\n",
    "        chCA = dfSS[dfSS['channel']==chan].iloc[0]['cell_area']   \n",
    "        chNA = dfSS[dfSS['channel']==chan].iloc[0]['nuc_area']\n",
    "        chNB = dfSS[dfSS['channel']==chan].iloc[0]['nb_rna']\n",
    "        chNIN = dfSS[dfSS['channel']==chan].iloc[0]['nb_rna_in_nuc']\n",
    "        chNON = dfSS[dfSS['channel']==chan].iloc[0]['nb_rna_out_nuc']\n",
    "        chTAR = dfSS[dfSS['channel']==chan].iloc[0]['target']\n",
    "        chInfo = [chTAR, chCA, chNA, chNB, chNIN, chNON]\n",
    "        chArr = chArr+chInfo\n",
    "        \n",
    "        # Setup all of the columns for this roi and \n",
    "        cols = [str(chan)+'_'+chTAR, 'cell_area_'+chTAR, 'nuc_area_'+chTAR, 'nb_rna_'+chTAR, \n",
    "                'nb_rna_in_nuc_'+chTAR, 'nb_rna_out_nuc_'+chTAR]\n",
    "        colsAll = colsAll+cols\n",
    "        \n",
    "    # Combine all info for the ROI into a single dataframe     \n",
    "    dfROI = pd.DataFrame(np.array([chArr]), columns = colsAll)\n",
    "    \n",
    "    # Add key metadata\n",
    "    dfROI.insert(loc = 0,\n",
    "          column = 'roiID',\n",
    "          value = roi)\n",
    "    dfROI.insert(loc = 0,\n",
    "          column = 'animalID',\n",
    "          value = animalID)\n",
    "\n",
    "    # Add to master list    \n",
    "    dfROIsAll = pd.concat([dfROIsAll, dfROI])\n",
    "\n"
   ]
  },
  {
   "cell_type": "code",
   "execution_count": 199,
   "id": "8bbfea8e-6e2f-48ce-b1d9-bab8dc0f59b3",
   "metadata": {},
   "outputs": [],
   "source": [
    "# Reset index on master list\n",
    "dfROIsAll.reset_index(drop=True, inplace=True)   \n",
    "dfROIsAll = dfROIsAll.fillna(\"0\")\n",
    "#   *** Save All ROIs ***\n",
    "dfROIsAll.to_csv(dirMain+\"ROIInfoAllChannels.csv\")"
   ]
  },
  {
   "cell_type": "code",
   "execution_count": null,
   "id": "982311ab-a7d7-4fcb-b218-97fdb5649380",
   "metadata": {},
   "outputs": [],
   "source": []
  }
 ],
 "metadata": {
  "kernelspec": {
   "display_name": "Python 3 (ipykernel)",
   "language": "python",
   "name": "python3"
  },
  "language_info": {
   "codemirror_mode": {
    "name": "ipython",
    "version": 3
   },
   "file_extension": ".py",
   "mimetype": "text/x-python",
   "name": "python",
   "nbconvert_exporter": "python",
   "pygments_lexer": "ipython3",
   "version": "3.9.15"
  }
 },
 "nbformat": 4,
 "nbformat_minor": 5
}
